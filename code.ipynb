{
 "cells": [
  {
   "cell_type": "code",
   "execution_count": null,
   "metadata": {},
   "outputs": [],
   "source": [
    "import matplotlib.pyplot as plt \n",
    "import numpy as np\n",
    "from IPython.display import clear_output\n",
    "import time"
   ]
  },
  {
   "cell_type": "code",
   "execution_count": null,
   "metadata": {},
   "outputs": [],
   "source": [
    "# グリッドのサイズを設定\n",
    "grid_size = 101\n",
    "grid = np.zeros((grid_size, grid_size), dtype=int)\n",
    "x, y = grid_size // 2, grid_size // 2\n",
    "direction = 0 # 0: UP, 1: RIGHT, 2: DOWN, 3: LEFT "
   ]
  },
  {
   "cell_type": "code",
   "execution_count": null,
   "metadata": {},
   "outputs": [],
   "source": [
    "# 移動ルール\n",
    "dx = [0, 1, 0, -1]\n",
    "dy = [-1, 0, 1, 0]  "
   ]
  },
  {
   "cell_type": "code",
   "execution_count": null,
   "metadata": {},
   "outputs": [],
   "source": [
    "# シミュレーションのステップ数\n",
    "steps = 10000000000000"
   ]
  },
  {
   "cell_type": "code",
   "execution_count": null,
   "metadata": {},
   "outputs": [],
   "source": [
    "# 可視化を更新する間隔\n",
    "update_interval = 50"
   ]
  },
  {
   "cell_type": "code",
   "execution_count": 13,
   "metadata": {},
   "outputs": [
    {
     "data": {
      "image/png": "[encoded data removed]",
      "text/plain": [
       "<Figure size 600x600 with 1 Axes>"
      ]
     },
     "metadata": {},
     "output_type": "display_data"
    },
    {
     "ename": "KeyboardInterrupt",
     "evalue": "",
     "output_type": "error",
     "traceback": [
      "\u001b[1;31m---------------------------------------------------------------------------\u001b[0m",
      "\u001b[1;31mKeyboardInterrupt\u001b[0m                         Traceback (most recent call last)",
      "Cell \u001b[1;32mIn[13], line 27\u001b[0m\n\u001b[0;32m     25\u001b[0m plt\u001b[38;5;241m.\u001b[39maxis(\u001b[38;5;124m'\u001b[39m\u001b[38;5;124moff\u001b[39m\u001b[38;5;124m'\u001b[39m)\n\u001b[0;32m     26\u001b[0m plt\u001b[38;5;241m.\u001b[39mshow()\n\u001b[1;32m---> 27\u001b[0m \u001b[43mtime\u001b[49m\u001b[38;5;241;43m.\u001b[39;49m\u001b[43msleep\u001b[49m\u001b[43m(\u001b[49m\u001b[38;5;241;43m0.1\u001b[39;49m\u001b[43m)\u001b[49m\n",
      "\u001b[1;31mKeyboardInterrupt\u001b[0m: "
     ]
    }
   ],
   "source": [
    "# シミュレーションの実行\n",
    "for step in range(steps):\n",
    "  # 現在のセルの状態に応じて回転と色の変更\n",
    "  if grid[y, x] == 0:\n",
    "    direction = (direction-1) % 4\n",
    "    grid[y, x] = 1\n",
    "  else:\n",
    "    direction = (direction+1) % 4\n",
    "    grid[y, x] = 0\n",
    "  \n",
    "  # 蟻を次のセルに移動\n",
    "  x += dx[direction]\n",
    "  y += dy[direction]\n",
    "  \n",
    "  #グリッドの範囲を超えないように調整\n",
    "  x %= grid_size\n",
    "  y %= grid_size\n",
    "  \n",
    "  #可視化の更新\n",
    "  if step % update_interval == 0 or step == steps-1:\n",
    "    clear_output(wait=True)\n",
    "    plt.figure(figsize=(6,6))\n",
    "    plt.imshow(grid, cmap='binary', interpolation='nearest')\n",
    "    plt.title(f\"Step: {step}\")\n",
    "    plt.axis('off')\n",
    "    plt.show()\n",
    "    time.sleep(0.1)"
   ]
  },
  {
   "cell_type": "code",
   "execution_count": null,
   "metadata": {},
   "outputs": [],
   "source": []
  },
  {
   "cell_type": "code",
   "execution_count": null,
   "metadata": {},
   "outputs": [],
   "source": []
  },
  {
   "cell_type": "code",
   "execution_count": null,
   "metadata": {},
   "outputs": [],
   "source": []
  }
 ],
 "metadata": {
  "kernelspec": {
   "display_name": "LangtonsAnt",
   "language": "python",
   "name": "python3"
  },
  "language_info": {
   "codemirror_mode": {
    "name": "ipython",
    "version": 3
   },
   "file_extension": ".py",
   "mimetype": "text/x-python",
   "name": "python",
   "nbconvert_exporter": "python",
   "pygments_lexer": "ipython3",
   "version": "3.12.9"
  }
 },
 "nbformat": 4,
 "nbformat_minor": 2
}
